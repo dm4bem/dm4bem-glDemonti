{
 "cells": [
  {
   "cell_type": "markdown",
   "metadata": {},
   "source": [
    "![Building](building.svg)"
   ]
  },
  {
   "cell_type": "markdown",
   "metadata": {},
   "source": [
    "![Cricuit](therm_circ.svg)"
   ]
  },
  {
   "cell_type": "code",
   "execution_count": 361,
   "metadata": {},
   "outputs": [],
   "source": [
    "import numpy as np\n",
    "import pandas as pd\n",
    "import matplotlib.pyplot as plt\n",
    "\n",
    "import dm4bem\n",
    "# from dm4bem import read_epw, sol_rad_tilt_surf"
   ]
  },
  {
   "cell_type": "code",
   "execution_count": 362,
   "metadata": {},
   "outputs": [],
   "source": [
    "lenght = 5                                   # length of the cubic room     [m]\n",
    "width = 3                                    # widht of room                [m]\n",
    "hight = 3                                    # room hight                   [m]\n",
    "window_hight = 1.5                             # hight of Window              [m]\n",
    "hight_wall  =   hight-window_hight           # hight of outside wall        [m]\n",
    "\n",
    "S_window = width * window_hight              # surface area of the window   [m²]\n",
    "S_wall_c = S_wall_i = width * hight_wall     # surface area of concrete & insulation  outside wall       [m²]\n",
    "S_ceiling = lenght * width                   # surface area of ceiling      [m²]\n",
    "\n",
    "w_wall_i = 0.1          # thickness of insulation wall   [m]\n",
    "w_wall_c = 0.2          # thickness of concrete wall     [m]\n",
    "w_ceiling_c = 0.33      # thickness concrete cyling      [m]\n",
    "\n",
    "V_room = width * lenght *hight # volme of the room       [m³]\n",
    "\n",
    "# heat transfer coefficient\n",
    "h_o = 25     # convection coefficient outdoor       [W/(m²⋅K)]\n",
    "h_i = 8      # convection coefficient indoor        [W/(m²⋅K)]\n",
    "\n",
    "\n",
    "# Thermo-physical properties air\n",
    "ρ_air = 1.2     # density air       [kg/m³]\n",
    "c_air = 1000    # specific heat     [J/(kg·K)]\n",
    "\n",
    "# Thermo-physical properties water\n",
    "c_w = 4187    # specific heat     [J/(kg·K)]\n",
    "\n",
    "\n",
    "# Thermo-physical properties concrete\n",
    "λ_concrete = 1.400      # thermal conductivity concrete      [W/(m·K)]\n",
    "ρ_concrete = 2300.0     # density concrete                   [kg/m³]\n",
    "c_concrete = 880        # specific heat concrete             [J/(kg⋅K)]\n",
    "\n",
    "\n",
    "# Thermo-physical properties insulation\n",
    "λ_insulation = 0.027      # thermal conductivity insulation      [W/(m·K)]\n",
    "ρ_insulation = 55.0       # density insulation                   [kg/m³]\n",
    "c_insulation = 1210       # specific heat insulation             [J/(kg⋅K)]\n",
    "\n",
    "# Thermo-physical properties window\n",
    "U_window = 1.00     # U-value of the window     [W/(m²·K)]"
   ]
  },
  {
   "cell_type": "code",
   "execution_count": 363,
   "metadata": {},
   "outputs": [],
   "source": [
    "# Temperatures\n",
    "T_0 = -10         # Temperature outdoor           [°C]\n",
    "T_i_sp = 22     # temperature indoor setpoint   [°C]"
   ]
  },
  {
   "cell_type": "markdown",
   "metadata": {},
   "source": [
    "*The outdoor temperture $T_o$ will be from the weatherdata*"
   ]
  },
  {
   "cell_type": "code",
   "execution_count": 364,
   "metadata": {},
   "outputs": [],
   "source": [
    "# P-controller gain\n",
    "kp = 1e4"
   ]
  },
  {
   "cell_type": "code",
   "execution_count": 365,
   "metadata": {},
   "outputs": [],
   "source": [
    "ACH = 0.3       # air changes per hour  [1/h]"
   ]
  },
  {
   "cell_type": "markdown",
   "metadata": {},
   "source": [
    "U-value window: $U_W = 1.0 \\quad \\left[ \\frac{W}{m^2 K}\\right]$"
   ]
  },
  {
   "cell_type": "code",
   "execution_count": 366,
   "metadata": {},
   "outputs": [],
   "source": [
    "α = 0       # absorbtion of outdoor surace\n",
    "E = 400     # irradiance [W/m²]\n",
    "\n",
    "Q̇_sol =  α * E * S_wall_i       # solar iradiation on outdoor wall [W]"
   ]
  },
  {
   "cell_type": "code",
   "execution_count": 367,
   "metadata": {},
   "outputs": [],
   "source": [
    "Q̇_a = 0    # auxiliary heat gains      [W]\n"
   ]
  },
  {
   "cell_type": "code",
   "execution_count": 368,
   "metadata": {},
   "outputs": [
    {
     "data": {
      "text/plain": [
       "37.217777777777776"
      ]
     },
     "execution_count": 368,
     "metadata": {},
     "output_type": "execute_result"
    }
   ],
   "source": [
    "ṁ = 160 # massflow [kg/h]\n",
    "ΔT = 4  # temperature difference flow and return [K]\n",
    "ṁ = 8\n",
    "\n",
    "Q̇_HVAC = ṁ * c_w * ΔT / 3600 # [W]\n",
    "Q̇_HVAC"
   ]
  },
  {
   "cell_type": "markdown",
   "metadata": {},
   "source": [
    "## Read Weather data\n",
    "The weather data for Luzern will be read for the outdoor temperature and the solar irradiation."
   ]
  },
  {
   "cell_type": "code",
   "execution_count": 369,
   "metadata": {},
   "outputs": [
    {
     "data": {
      "text/html": [
       "<div>\n",
       "<style scoped>\n",
       "    .dataframe tbody tr th:only-of-type {\n",
       "        vertical-align: middle;\n",
       "    }\n",
       "\n",
       "    .dataframe tbody tr th {\n",
       "        vertical-align: top;\n",
       "    }\n",
       "\n",
       "    .dataframe thead th {\n",
       "        text-align: right;\n",
       "    }\n",
       "</style>\n",
       "<table border=\"1\" class=\"dataframe\">\n",
       "  <thead>\n",
       "    <tr style=\"text-align: right;\">\n",
       "      <th></th>\n",
       "      <th>Month-Year</th>\n",
       "    </tr>\n",
       "  </thead>\n",
       "  <tbody>\n",
       "    <tr>\n",
       "      <th>0</th>\n",
       "      <td>01-2013</td>\n",
       "    </tr>\n",
       "    <tr>\n",
       "      <th>1</th>\n",
       "      <td>02-2011</td>\n",
       "    </tr>\n",
       "    <tr>\n",
       "      <th>2</th>\n",
       "      <td>03-2020</td>\n",
       "    </tr>\n",
       "    <tr>\n",
       "      <th>3</th>\n",
       "      <td>04-2022</td>\n",
       "    </tr>\n",
       "    <tr>\n",
       "      <th>4</th>\n",
       "      <td>05-2023</td>\n",
       "    </tr>\n",
       "    <tr>\n",
       "      <th>5</th>\n",
       "      <td>06-2018</td>\n",
       "    </tr>\n",
       "    <tr>\n",
       "      <th>6</th>\n",
       "      <td>07-2016</td>\n",
       "    </tr>\n",
       "    <tr>\n",
       "      <th>7</th>\n",
       "      <td>08-2019</td>\n",
       "    </tr>\n",
       "    <tr>\n",
       "      <th>8</th>\n",
       "      <td>09-2019</td>\n",
       "    </tr>\n",
       "    <tr>\n",
       "      <th>9</th>\n",
       "      <td>10-2012</td>\n",
       "    </tr>\n",
       "    <tr>\n",
       "      <th>10</th>\n",
       "      <td>11-2012</td>\n",
       "    </tr>\n",
       "    <tr>\n",
       "      <th>11</th>\n",
       "      <td>12-2021</td>\n",
       "    </tr>\n",
       "  </tbody>\n",
       "</table>\n",
       "</div>"
      ],
      "text/plain": [
       "   Month-Year\n",
       "0     01-2013\n",
       "1     02-2011\n",
       "2     03-2020\n",
       "3     04-2022\n",
       "4     05-2023\n",
       "5     06-2018\n",
       "6     07-2016\n",
       "7     08-2019\n",
       "8     09-2019\n",
       "9     10-2012\n",
       "10    11-2012\n",
       "11    12-2021"
      ]
     },
     "execution_count": 369,
     "metadata": {},
     "output_type": "execute_result"
    }
   ],
   "source": [
    "# read wheater data\n",
    "filename = './weatherdata/CHE_LU_Luzern.066500_TMYx.2009-2023.epw'\n",
    "\n",
    "[data, meta] = dm4bem.read_epw(filename, coerce_year=None)\n",
    "\n",
    "# Extract the month and year from the DataFrame index with the format 'MM-YYYY'\n",
    "month_year = data.index.strftime('%m-%Y')\n",
    "\n",
    "# Create a set of unique month-year combinations\n",
    "unique_month_years = sorted(set(month_year))\n",
    "\n",
    "# Create a DataFrame from the unique month-year combinations\n",
    "pd.DataFrame(unique_month_years, columns=['Month-Year'])"
   ]
  },
  {
   "cell_type": "code",
   "execution_count": 370,
   "metadata": {},
   "outputs": [],
   "source": [
    "# select columns of interest\n",
    "weather_data = data[[\"temp_air\", \"dir_n_rad\", \"dif_h_rad\"]]\n",
    "\n",
    "# replace year with 2000 in the index \n",
    "weather_data.index = weather_data.index.map(\n",
    "    lambda t: t.replace(year=2000))"
   ]
  },
  {
   "cell_type": "code",
   "execution_count": 371,
   "metadata": {},
   "outputs": [
    {
     "data": {
      "text/plain": [
       "temp_air      22.7\n",
       "dir_n_rad    281.0\n",
       "dif_h_rad    297.0\n",
       "Name: 2000-06-29 12:00:00+01:00, dtype: float64"
      ]
     },
     "execution_count": 371,
     "metadata": {},
     "output_type": "execute_result"
    }
   ],
   "source": [
    "weather_data.loc['2000-06-29 12:00']"
   ]
  },
  {
   "cell_type": "markdown",
   "metadata": {},
   "source": [
    "Start and end time"
   ]
  },
  {
   "cell_type": "code",
   "execution_count": 372,
   "metadata": {},
   "outputs": [
    {
     "data": {
      "text/html": [
       "<div>\n",
       "<style scoped>\n",
       "    .dataframe tbody tr th:only-of-type {\n",
       "        vertical-align: middle;\n",
       "    }\n",
       "\n",
       "    .dataframe tbody tr th {\n",
       "        vertical-align: top;\n",
       "    }\n",
       "\n",
       "    .dataframe thead th {\n",
       "        text-align: right;\n",
       "    }\n",
       "</style>\n",
       "<table border=\"1\" class=\"dataframe\">\n",
       "  <thead>\n",
       "    <tr style=\"text-align: right;\">\n",
       "      <th></th>\n",
       "      <th>temp_air</th>\n",
       "      <th>dir_n_rad</th>\n",
       "      <th>dif_h_rad</th>\n",
       "    </tr>\n",
       "  </thead>\n",
       "  <tbody>\n",
       "    <tr>\n",
       "      <th>2000-01-05 00:00:00+01:00</th>\n",
       "      <td>5.7</td>\n",
       "      <td>0</td>\n",
       "      <td>0</td>\n",
       "    </tr>\n",
       "    <tr>\n",
       "      <th>2000-01-05 01:00:00+01:00</th>\n",
       "      <td>5.5</td>\n",
       "      <td>0</td>\n",
       "      <td>0</td>\n",
       "    </tr>\n",
       "    <tr>\n",
       "      <th>2000-01-05 02:00:00+01:00</th>\n",
       "      <td>5.3</td>\n",
       "      <td>0</td>\n",
       "      <td>0</td>\n",
       "    </tr>\n",
       "    <tr>\n",
       "      <th>2000-01-05 03:00:00+01:00</th>\n",
       "      <td>4.1</td>\n",
       "      <td>0</td>\n",
       "      <td>0</td>\n",
       "    </tr>\n",
       "    <tr>\n",
       "      <th>2000-01-05 04:00:00+01:00</th>\n",
       "      <td>5.4</td>\n",
       "      <td>0</td>\n",
       "      <td>0</td>\n",
       "    </tr>\n",
       "    <tr>\n",
       "      <th>...</th>\n",
       "      <td>...</td>\n",
       "      <td>...</td>\n",
       "      <td>...</td>\n",
       "    </tr>\n",
       "    <tr>\n",
       "      <th>2000-01-08 19:00:00+01:00</th>\n",
       "      <td>2.7</td>\n",
       "      <td>0</td>\n",
       "      <td>0</td>\n",
       "    </tr>\n",
       "    <tr>\n",
       "      <th>2000-01-08 20:00:00+01:00</th>\n",
       "      <td>2.7</td>\n",
       "      <td>0</td>\n",
       "      <td>0</td>\n",
       "    </tr>\n",
       "    <tr>\n",
       "      <th>2000-01-08 21:00:00+01:00</th>\n",
       "      <td>2.6</td>\n",
       "      <td>0</td>\n",
       "      <td>0</td>\n",
       "    </tr>\n",
       "    <tr>\n",
       "      <th>2000-01-08 22:00:00+01:00</th>\n",
       "      <td>2.4</td>\n",
       "      <td>0</td>\n",
       "      <td>0</td>\n",
       "    </tr>\n",
       "    <tr>\n",
       "      <th>2000-01-08 23:00:00+01:00</th>\n",
       "      <td>2.4</td>\n",
       "      <td>0</td>\n",
       "      <td>0</td>\n",
       "    </tr>\n",
       "  </tbody>\n",
       "</table>\n",
       "<p>96 rows × 3 columns</p>\n",
       "</div>"
      ],
      "text/plain": [
       "                           temp_air  dir_n_rad  dif_h_rad\n",
       "2000-01-05 00:00:00+01:00       5.7          0          0\n",
       "2000-01-05 01:00:00+01:00       5.5          0          0\n",
       "2000-01-05 02:00:00+01:00       5.3          0          0\n",
       "2000-01-05 03:00:00+01:00       4.1          0          0\n",
       "2000-01-05 04:00:00+01:00       5.4          0          0\n",
       "...                             ...        ...        ...\n",
       "2000-01-08 19:00:00+01:00       2.7          0          0\n",
       "2000-01-08 20:00:00+01:00       2.7          0          0\n",
       "2000-01-08 21:00:00+01:00       2.6          0          0\n",
       "2000-01-08 22:00:00+01:00       2.4          0          0\n",
       "2000-01-08 23:00:00+01:00       2.4          0          0\n",
       "\n",
       "[96 rows x 3 columns]"
      ]
     },
     "execution_count": 372,
     "metadata": {},
     "output_type": "execute_result"
    }
   ],
   "source": [
    "# Define start and end dates\n",
    "start_date = '2000-01-05'\n",
    "end_date = '2000-01-08'         # time is 00:00 if not indicated\n",
    "\n",
    "# Filter the data based on the start and end dates\n",
    "weather_data = weather_data.loc[start_date:end_date]\n",
    "del data\n",
    "weather_data"
   ]
  },
  {
   "cell_type": "code",
   "execution_count": 373,
   "metadata": {},
   "outputs": [
    {
     "data": {
      "image/png": "[encoded data removed]",
      "text/plain": [
       "<Figure size 640x480 with 1 Axes>"
      ]
     },
     "metadata": {},
     "output_type": "display_data"
    }
   ],
   "source": [
    "weather_data['temp_air'].plot()\n",
    "plt.xlabel(\"Time\")\n",
    "plt.ylabel(\"Dry-bulb air temperature, θ / °C\")\n",
    "plt.legend([])\n",
    "plt.show()"
   ]
  },
  {
   "cell_type": "markdown",
   "metadata": {},
   "source": [
    "*precisise solar iradience --> from weatherdata*"
   ]
  },
  {
   "cell_type": "markdown",
   "metadata": {},
   "source": [
    "## A: incidence matrix"
   ]
  },
  {
   "cell_type": "code",
   "execution_count": 374,
   "metadata": {},
   "outputs": [
    {
     "data": {
      "text/plain": [
       "array([[ 1.,  0.,  0.,  0.,  0.,  0.,  0.,  0.,  0.,  0.,  0.],\n",
       "       [-1.,  1.,  0.,  0.,  0.,  0.,  0.,  0.,  0.,  0.,  0.],\n",
       "       [ 0., -1.,  1.,  0.,  0.,  0.,  0.,  0.,  0.,  0.,  0.],\n",
       "       [ 0.,  0., -1.,  1.,  0.,  0.,  0.,  0.,  0.,  0.,  0.],\n",
       "       [ 0.,  0.,  0., -1.,  1.,  0.,  0.,  0.,  0.,  0.,  0.],\n",
       "       [ 0.,  0.,  0.,  0., -1.,  0.,  0.,  1.,  0.,  0.,  0.],\n",
       "       [ 0.,  0.,  0.,  0.,  0., -1.,  1.,  0.,  0.,  0.,  0.],\n",
       "       [ 0.,  0.,  0.,  0.,  0.,  0.,  0.,  1., -1.,  0.,  0.],\n",
       "       [ 0.,  0.,  0.,  0.,  0.,  0.,  0.,  0.,  1., -1.,  0.],\n",
       "       [ 0.,  0.,  0.,  0.,  0.,  0.,  0.,  0.,  0.,  1., -1.],\n",
       "       [ 0.,  0.,  0.,  0.,  0.,  0.,  0.,  1.,  0.,  0.,  0.],\n",
       "       [ 0.,  0.,  0.,  0.,  0.,  0.,  0.,  1.,  0.,  0.,  0.]])"
      ]
     },
     "execution_count": 374,
     "metadata": {},
     "output_type": "execute_result"
    }
   ],
   "source": [
    "# incidence matrix\n",
    "A = np.zeros([12, 11]) # n° of branches X n° of nodes\n",
    "A[0, 0] = 1\n",
    "A[1, 0], A[1, 1] = -1, 1\n",
    "A[2, 1], A[2, 2] = -1, 1\n",
    "A[3, 2], A[3, 3] = -1, 1\n",
    "A[4, 3], A[4, 4] = -1, 1\n",
    "A[5, 4], A[5, 7] = -1, 1\n",
    "A[6, 5], A[6, 6] = -1, 1\n",
    "A[7, 8], A[7, 7] = -1, 1\n",
    "A[8, 9], A[8, 8] = -1, 1\n",
    "A[9, 10], A[9, 9] = -1, 1\n",
    "A[10, 7] = 1\n",
    "A[11, 7] = 1\n",
    "\n",
    "A"
   ]
  },
  {
   "cell_type": "markdown",
   "metadata": {},
   "source": [
    "## G: conductance matrix"
   ]
  },
  {
   "cell_type": "code",
   "execution_count": 375,
   "metadata": {},
   "outputs": [
    {
     "data": {
      "text/plain": [
       "array([[1.12500000e+02, 0.00000000e+00, 0.00000000e+00, 0.00000000e+00,\n",
       "        0.00000000e+00, 0.00000000e+00, 0.00000000e+00, 0.00000000e+00,\n",
       "        0.00000000e+00, 0.00000000e+00, 0.00000000e+00, 0.00000000e+00],\n",
       "       [0.00000000e+00, 2.43000000e+00, 0.00000000e+00, 0.00000000e+00,\n",
       "        0.00000000e+00, 0.00000000e+00, 0.00000000e+00, 0.00000000e+00,\n",
       "        0.00000000e+00, 0.00000000e+00, 0.00000000e+00, 0.00000000e+00],\n",
       "       [0.00000000e+00, 0.00000000e+00, 2.43000000e+00, 0.00000000e+00,\n",
       "        0.00000000e+00, 0.00000000e+00, 0.00000000e+00, 0.00000000e+00,\n",
       "        0.00000000e+00, 0.00000000e+00, 0.00000000e+00, 0.00000000e+00],\n",
       "       [0.00000000e+00, 0.00000000e+00, 0.00000000e+00, 6.30000000e+01,\n",
       "        0.00000000e+00, 0.00000000e+00, 0.00000000e+00, 0.00000000e+00,\n",
       "        0.00000000e+00, 0.00000000e+00, 0.00000000e+00, 0.00000000e+00],\n",
       "       [0.00000000e+00, 0.00000000e+00, 0.00000000e+00, 0.00000000e+00,\n",
       "        6.30000000e+01, 0.00000000e+00, 0.00000000e+00, 0.00000000e+00,\n",
       "        0.00000000e+00, 0.00000000e+00, 0.00000000e+00, 0.00000000e+00],\n",
       "       [0.00000000e+00, 0.00000000e+00, 0.00000000e+00, 0.00000000e+00,\n",
       "        0.00000000e+00, 3.60000000e+01, 0.00000000e+00, 0.00000000e+00,\n",
       "        0.00000000e+00, 0.00000000e+00, 0.00000000e+00, 0.00000000e+00],\n",
       "       [0.00000000e+00, 0.00000000e+00, 0.00000000e+00, 0.00000000e+00,\n",
       "        0.00000000e+00, 0.00000000e+00, 4.50000000e+00, 0.00000000e+00,\n",
       "        0.00000000e+00, 0.00000000e+00, 0.00000000e+00, 0.00000000e+00],\n",
       "       [0.00000000e+00, 0.00000000e+00, 0.00000000e+00, 0.00000000e+00,\n",
       "        0.00000000e+00, 0.00000000e+00, 0.00000000e+00, 1.20000000e+02,\n",
       "        0.00000000e+00, 0.00000000e+00, 0.00000000e+00, 0.00000000e+00],\n",
       "       [0.00000000e+00, 0.00000000e+00, 0.00000000e+00, 0.00000000e+00,\n",
       "        0.00000000e+00, 0.00000000e+00, 0.00000000e+00, 0.00000000e+00,\n",
       "        1.27272727e+02, 0.00000000e+00, 0.00000000e+00, 0.00000000e+00],\n",
       "       [0.00000000e+00, 0.00000000e+00, 0.00000000e+00, 0.00000000e+00,\n",
       "        0.00000000e+00, 0.00000000e+00, 0.00000000e+00, 0.00000000e+00,\n",
       "        0.00000000e+00, 1.27272727e+02, 0.00000000e+00, 0.00000000e+00],\n",
       "       [0.00000000e+00, 0.00000000e+00, 0.00000000e+00, 0.00000000e+00,\n",
       "        0.00000000e+00, 0.00000000e+00, 0.00000000e+00, 0.00000000e+00,\n",
       "        0.00000000e+00, 0.00000000e+00, 4.50000000e+00, 0.00000000e+00],\n",
       "       [0.00000000e+00, 0.00000000e+00, 0.00000000e+00, 0.00000000e+00,\n",
       "        0.00000000e+00, 0.00000000e+00, 0.00000000e+00, 0.00000000e+00,\n",
       "        0.00000000e+00, 0.00000000e+00, 0.00000000e+00, 1.00000000e+04]])"
      ]
     },
     "execution_count": 375,
     "metadata": {},
     "output_type": "execute_result"
    }
   ],
   "source": [
    "# conductance matrix\n",
    "G = np.array([h_o * S_wall_i,                               # convection outdor wall\n",
    "              λ_insulation / w_wall_i * S_wall_i * 2,       # conduction insulation\n",
    "              λ_insulation / w_wall_i * S_wall_i * 2,       # conduction insulation\n",
    "              λ_concrete / w_wall_c * S_wall_c * 2,         # conduction concrete\n",
    "              λ_concrete / w_wall_c * S_wall_c * 2,         # conduction concrete\n",
    "              h_i * S_wall_c,                               # convection indoor wall\n",
    "              U_window * S_window,                          # Convection and conduction window\n",
    "              h_i * S_ceiling,                              # convection ceiling\n",
    "              λ_concrete / w_ceiling_c * S_ceiling * 2,     # conduction ceiling\n",
    "              λ_concrete / w_ceiling_c * S_ceiling * 2,     # conduction ceiling\n",
    "              ACH * V_room / 3600*ρ_air*c_air,              # advection ventilation\n",
    "              kp                                            # kontroller gain\n",
    "              ])\n",
    "G = np.diag(G)\n",
    "G"
   ]
  },
  {
   "cell_type": "markdown",
   "metadata": {},
   "source": [
    "## b: temperature source vector "
   ]
  },
  {
   "cell_type": "code",
   "execution_count": 376,
   "metadata": {},
   "outputs": [
    {
     "data": {
      "text/plain": [
       "array([-10.,   0.,   0.,   0.,   0.,   0., -10.,   0.,   0.,   0., -10.,\n",
       "        22.])"
      ]
     },
     "execution_count": 376,
     "metadata": {},
     "output_type": "execute_result"
    }
   ],
   "source": [
    "# temperature source vector\n",
    "b = np.zeros(12)\n",
    "b[0] = T_0\n",
    "b[6] = T_0\n",
    "b[10] = T_0\n",
    "b[11] = T_i_sp\n",
    "\n",
    "b\n",
    "\n",
    "\n"
   ]
  },
  {
   "cell_type": "markdown",
   "metadata": {},
   "source": [
    "## f: heat flow source vector"
   ]
  },
  {
   "cell_type": "code",
   "execution_count": 377,
   "metadata": {},
   "outputs": [],
   "source": [
    "# flow source vector\n",
    "f = np.zeros(11)\n",
    "f[0] = Q̇_sol\n",
    "f[7] = Q̇_a\n",
    "f[10] = Q̇_HVAC\n",
    "\n"
   ]
  },
  {
   "cell_type": "code",
   "execution_count": 378,
   "metadata": {},
   "outputs": [
    {
     "data": {
      "text/plain": [
       "array([-3.58802562e+01, -3.58802562e+01, -3.58802562e+01, -3.58802562e+01,\n",
       "       -3.58802562e+01, -3.58802562e+01, -7.99360578e-13,  3.72177778e+01,\n",
       "        3.72177778e+01,  3.72177778e+01, -1.43935831e+02,  1.42598309e+02])"
      ]
     },
     "execution_count": 378,
     "metadata": {},
     "output_type": "execute_result"
    }
   ],
   "source": [
    "θ = np.linalg.pinv(A.T @ G @ A) @ (A.T @ G @ b + f)\n",
    "q = G  @ (-A @ θ + b)\n",
    "\n",
    " \n",
    "q\n"
   ]
  },
  {
   "cell_type": "code",
   "execution_count": 379,
   "metadata": {},
   "outputs": [
    {
     "name": "stdout",
     "output_type": "stream",
     "text": [
      "q = 142.6 W\n",
      "37.21777777777561\n"
     ]
    }
   ],
   "source": [
    "q_S = q[11]/S_ceiling\n",
    "print(f\"q = {q[11]:.1f} W\")\n",
    "print(q[7])\n"
   ]
  },
  {
   "cell_type": "code",
   "execution_count": 381,
   "metadata": {},
   "outputs": [
    {
     "data": {
      "text/plain": [
       "9.506553942619197"
      ]
     },
     "execution_count": 381,
     "metadata": {},
     "output_type": "execute_result"
    }
   ],
   "source": [
    "q_S"
   ]
  },
  {
   "cell_type": "markdown",
   "metadata": {},
   "source": [
    "to do:\n",
    "- prediction controller --> non linear controller\n",
    "- wheater data\n",
    "    - use weather data as imput for temperature and radiation\n",
    "- test with steady stat\n",
    "    - dynamic\n",
    "    "
   ]
  },
  {
   "cell_type": "markdown",
   "metadata": {},
   "source": [
    "## References\n",
    "\n",
    "1. [EnFK (2021)](https://www.endk.ch/de/ablage/ftw-simplelayout-filelistingblock/Merkblatt_Fenster_D_2021.pdf/view). Merkblatt Fenster\n"
   ]
  }
 ],
 "metadata": {
  "kernelspec": {
   "display_name": "base",
   "language": "python",
   "name": "python3"
  },
  "language_info": {
   "codemirror_mode": {
    "name": "ipython",
    "version": 3
   },
   "file_extension": ".py",
   "mimetype": "text/x-python",
   "name": "python",
   "nbconvert_exporter": "python",
   "pygments_lexer": "ipython3",
   "version": "3.12.7"
  }
 },
 "nbformat": 4,
 "nbformat_minor": 2
}
